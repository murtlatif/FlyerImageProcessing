{
  "nbformat": 4,
  "nbformat_minor": 0,
  "metadata": {
    "colab": {
      "name": "product_classification_cosine.ipynb",
      "provenance": [],
      "collapsed_sections": []
    },
    "kernelspec": {
      "name": "python3",
      "display_name": "Python 3"
    },
    "language_info": {
      "name": "python"
    }
  },
  "cells": [
    {
      "cell_type": "code",
      "metadata": {
        "id": "s-YHzzXSHptF"
      },
      "source": [
        "!pip install sentence_transformers"
      ],
      "execution_count": null,
      "outputs": []
    },
    {
      "cell_type": "code",
      "metadata": {
        "id": "1YnZVSOkHEe-"
      },
      "source": [
        "#https://towardsdatascience.com/bert-for-measuring-text-similarity-eec91c6bf9e1\n",
        "import numpy as np\n",
        "import pandas as pd\n",
        "import torch\n",
        "import torch.nn as nn\n",
        "from sentence_transformers import SentenceTransformer\n",
        "from sklearn.metrics.pairwise import cosine_similarity\n",
        "from scipy import stats\n",
        "from sklearn.metrics import classification_report, confusion_matrix, accuracy_score\n",
        "import matplotlib.pyplot as plt\n",
        "import seaborn as sn"
      ],
      "execution_count": 137,
      "outputs": []
    },
    {
      "cell_type": "code",
      "metadata": {
        "id": "CmrtQdqGHTCu"
      },
      "source": [
        "model = SentenceTransformer('bert-base-nli-mean-tokens')"
      ],
      "execution_count": null,
      "outputs": []
    },
    {
      "cell_type": "code",
      "metadata": {
        "id": "cQRLU6mkHdTo"
      },
      "source": [
        "# load data\n",
        "df = pd.read_csv(\"data.csv\")\n",
        "sentences = df['text']\n",
        "true_labels = df['label']\n",
        "categories = [\n",
        "    \"produce\", # fruits, vegetables 0\n",
        "    \"deli\",     # chicken, beef, eggs 1\n",
        "    \"grocery\",  # chips, pop, jello, baking, crackers, flour 2\n",
        "    \"bakery\",   # cakes, breads, cookies 3\n",
        "    \"dairy\",    # butter, milk, yoghurt 4\n",
        "]\n",
        "\n",
        "sentence_embeddings = model.encode(sentences)"
      ],
      "execution_count": 114,
      "outputs": []
    },
    {
      "cell_type": "code",
      "metadata": {
        "id": "-cAy9-AKITRp"
      },
      "source": [
        "def kNearestNeighbor(sim, k):\n",
        "    sim = sim.copy()\n",
        "    m,n = sim.shape\n",
        "    for i in range(m):\n",
        "        # only keep the k largest number\n",
        "        sim[i, sim[i].argsort()[:-k]] = 0\n",
        "    return sim"
      ],
      "execution_count": 115,
      "outputs": []
    },
    {
      "cell_type": "code",
      "metadata": {
        "id": "uJuFS5ubLhkJ"
      },
      "source": [
        "def eval_train(product_idx, method=\"mode\"):\n",
        "  \"\"\"\n",
        "  Use to evaluate on train dataset.\n",
        "\n",
        "  product_idx: (int) index within train dataset\n",
        "  method: (str) \"mode\" or \"top\". If mode, returns most common prediction.\n",
        "          If \"top\", returns top prediction\n",
        "  \"\"\"\n",
        "  # get sims\n",
        "  sims = cosine_similarity(\n",
        "      [sentence_embeddings[product_idx]],\n",
        "      sentence_embeddings[np.arange(len(sentence_embeddings))!=product_idx]\n",
        "  )\n",
        "  # find 6 nearest neighbours\n",
        "  nearest = kNearestNeighbor(sims, 6).tolist()[0]\n",
        "  # collect indices + values\n",
        "  idxs = [(i, element) for i, element in enumerate(nearest) if element]\n",
        "  # sort highest to lowest\n",
        "  idxs.sort(key=lambda x: x[1], reverse=True)\n",
        "  # get labels from each prediction\n",
        "  preds = [true_labels[i] for i, val in idxs]\n",
        "  if method == \"top\":\n",
        "    # return top prediction\n",
        "    return preds[0]\n",
        "  if method == \"mode\":\n",
        "    # return common prediction\n",
        "    # return mode(preds)\n",
        "    return stats.mode(preds)[0][0]\n"
      ],
      "execution_count": 120,
      "outputs": []
    },
    {
      "cell_type": "code",
      "metadata": {
        "id": "cBkQUkiKTJE4"
      },
      "source": [
        "def eval_test(product, method=\"mode\"):\n",
        "  \"\"\"\n",
        "  Use to evaluate on new products\n",
        "\n",
        "  product: (str) product name\n",
        "  method: (str) \"mode\" or \"top\". If mode, returns most common prediction.\n",
        "          If \"top\", returns top prediction\n",
        "  \"\"\"\n",
        "  # get sims\n",
        "  sims = cosine_similarity(\n",
        "      model.encode([product]),\n",
        "      sentence_embeddings\n",
        "  )\n",
        "  # find 6 nearest neighbours\n",
        "  nearest = kNearestNeighbor(sims, 6).tolist()[0]\n",
        "  # collect indices + values\n",
        "  idxs = [(i, element) for i, element in enumerate(nearest) if element]\n",
        "  # sort highest to lowest\n",
        "  idxs.sort(key=lambda x: x[1], reverse=True)\n",
        "  # get labels from each prediction\n",
        "  preds = [true_labels[i] for i, val in idxs]\n",
        "  if method == \"top\":\n",
        "    # return top prediction\n",
        "    return preds[0]\n",
        "  if method == \"mode\":\n",
        "    # return common prediction\n",
        "    # return mode(preds)\n",
        "    return stats.mode(preds)[0][0]"
      ],
      "execution_count": 121,
      "outputs": []
    },
    {
      "cell_type": "code",
      "metadata": {
        "id": "Mr8RsDW5OnfY"
      },
      "source": [
        "# evaluate on training dataset\n",
        "mode_predictions = []\n",
        "top_predictions = []\n",
        "for i in range(len(sentence_embeddings)):\n",
        "  mode_predictions.append(eval_train(i))\n",
        "  top_predictions.append(eval_train(i, method=\"top\"))"
      ],
      "execution_count": 124,
      "outputs": []
    },
    {
      "cell_type": "code",
      "metadata": {
        "colab": {
          "base_uri": "https://localhost:8080/"
        },
        "id": "B3XFSr_8P8S5",
        "outputId": "fb9384da-3616-4cb2-8f7a-56e6b4ae0d66"
      },
      "source": [
        "# get accuracies\n",
        "print(accuracy_score(true_labels, mode_predictions))\n",
        "print(accuracy_score(true_labels, top_predictions))"
      ],
      "execution_count": 155,
      "outputs": [
        {
          "output_type": "stream",
          "name": "stdout",
          "text": [
            "0.6830985915492958\n",
            "0.6713615023474179\n"
          ]
        }
      ]
    },
    {
      "cell_type": "code",
      "metadata": {
        "colab": {
          "base_uri": "https://localhost:8080/",
          "height": 269
        },
        "id": "Ie4abb_rSEnO",
        "outputId": "5a0711af-fb9d-418c-858b-da977e4c213a"
      },
      "source": [
        "# confusion matrices\n",
        "# conf = confusion_matrix(true_labels, mode_predictions)\n",
        "conf = confusion_matrix(true_labels, top_predictions)\n",
        "df_cm = pd.DataFrame(conf, categories, categories)\n",
        "sn.set(font_scale=1) # for label size\n",
        "sn.heatmap(df_cm, annot=True, annot_kws={\"size\": 10}, fmt='g') # font size\n",
        "plt.show()"
      ],
      "execution_count": 153,
      "outputs": [
        {
          "output_type": "display_data",
          "data": {
            "image/png": "[encoded data removed]",
            "text/plain": [
              "<Figure size 432x288 with 2 Axes>"
            ]
          },
          "metadata": {}
        }
      ]
    },
    {
      "cell_type": "code",
      "metadata": {
        "colab": {
          "base_uri": "https://localhost:8080/"
        },
        "id": "73gpXmoINoq5",
        "outputId": "753a2485-8464-4de8-cbb9-c888270560f9"
      },
      "source": [
        "# test new products here\n",
        "product = \"Western family mushrooms\"\n",
        "print(categories[eval_test(product, method=\"top\")])"
      ],
      "execution_count": 134,
      "outputs": [
        {
          "output_type": "stream",
          "name": "stdout",
          "text": [
            "produce\n"
          ]
        }
      ]
    }
  ]
}